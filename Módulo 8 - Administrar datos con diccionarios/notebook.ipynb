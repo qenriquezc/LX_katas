{
 "cells": [
  {
   "cell_type": "markdown",
   "metadata": {},
   "source": [
    "## Introducción a los diccionarios de Python\n",
    "\n",
    "Las variables de Python pueden almacenar varios tipos de datos. Anteriormente, hemos aprendido que puedes almacenar cadenas y números:\n"
   ]
  },
  {
   "cell_type": "code",
   "execution_count": 1,
   "metadata": {},
   "outputs": [],
   "source": [
    "name = 'Earth'\n",
    "moons = 1\n"
   ]
  },
  {
   "cell_type": "markdown",
   "metadata": {},
   "source": [
    "Aunque esto funciona para cantidades más pequeñas de datos, puede ser cada vez más complejo cuando se trabaja con datos relacionados. Imagina que quieres almacenar información sobre las lunas de la Tierra y la Luna.\n"
   ]
  },
  {
   "cell_type": "code",
   "execution_count": 2,
   "metadata": {},
   "outputs": [],
   "source": [
    "earth_name = 'Earth'\n",
    "earth_moons = 1\n",
    "\n",
    "jupiter_name = 'Jupiter'\n",
    "jupiter_moons = 79"
   ]
  },
  {
   "cell_type": "markdown",
   "metadata": {},
   "source": [
    "Observa cómo se duplican las variables con prefijos diferentes. Esto puede resultar difícil de manejar. Con frecuencia tendrás que trabajar con conjuntos de datos relacionados, como por ejemplo: el promedio de precipitaciones durante varios meses en distintas ciudades, almacenarlos como valores individuales no es una opción viable. Aquí es donde los diccionarios de Python pueden ayudarnos.\n",
    "\n",
    "Los diccionarios de Python permiten trabajar con conjuntos de datos relacionados. Un diccionario es una colección de pares clave-valor. Piensa que es como un grupo de variables dentro de una cajita, donde la clave es el nombre de la variable y el valor es el valor almacenado en su interior.\n",
    "\n",
    "### Creación de un diccionario\n",
    "\n",
    "Python usa llaves (``{ }``) y dos puntos (``:``) para indicar un diccionario. Puedes crear un diccionario vacío y agregar valores más adelante, o bien rellenarlo en el momento de la creación. Cada clave o valor está separado por dos puntos y el nombre de cada clave se incluye entre comillas como un literal de cadena. Como la clave es un literal de cadena, puede usar el nombre que sea adecuado para describir el valor(Sí el que tu quieras).\n",
    "\n",
    "Ahora crearemos un diccionario para almacenar el nombre del planeta Tierra y el número de lunas que tiene:\n"
   ]
  },
  {
   "cell_type": "code",
   "execution_count": 13,
   "metadata": {},
   "outputs": [
    {
     "name": "stdout",
     "output_type": "stream",
     "text": [
      "{'name': 'Earth', 'moons': 1}\n"
     ]
    }
   ],
   "source": [
    "planet = {\n",
    "    'name': 'Earth',\n",
    "    'moons': 1\n",
    "}\n",
    "print(planet)"
   ]
  },
  {
   "cell_type": "markdown",
   "metadata": {},
   "source": [
    "Tiene dos claves, `'name'` y `'moons'`. Cada una se comporta igual que una variable: tienen un nombre único y almacenan un valor. Pero se incluyen dentro de una única variable más grande, denominada `planet`.\n",
    "\n",
    "Como sucede con las variables convencionales, debes asegurarte de que usas los tipos de datos correctos. En el valor `moons` de `1` en el ejemplo anterior, no se han incluido comillas alrededor del número, porque se quiere usar un entero. Si hubieras usado `'1'`, Python lo vería como una cadena, lo que afectaría a la capacidad de realizar cálculos.\n",
    "\n",
    "A diferencia de las variables convencionales, los nombres de clave *no* necesitan seguir las reglas de nomenclatura estándar para Python. Por lo que te recomendamos ser más descriptivo en el código.\n",
    "\n",
    "### Lectura de los valores de un diccionario\n",
    "\n",
    "Podemos leer valores dentro de un diccionario. Los objetos de diccionario tienen un método llamado `get` que puedes usar para acceder a un valor mediante su clave. Si queremos imprimir `name`, funcionaría de la siguiente manera:\n"
   ]
  },
  {
   "cell_type": "code",
   "execution_count": 14,
   "metadata": {},
   "outputs": [
    {
     "name": "stdout",
     "output_type": "stream",
     "text": [
      "Earth\n"
     ]
    }
   ],
   "source": [
    "print(planet.get('name'))\n",
    "\n",
    "# Muestra Earth\n"
   ]
  },
  {
   "cell_type": "markdown",
   "metadata": {},
   "source": [
    "Como podrías sospechar, el acceso a los valores de un diccionario es una operación común. Afortunadamente, hay un acceso directo. También puedes pasar la clave entre corchetes (`[ ]`). Utilizando menos código que `get` y la mayoría de los programadores utilizan esta sintaxis en su lugar. Podemos reescribir el ejemplo anterior de la siguiente forma:\n"
   ]
  },
  {
   "cell_type": "code",
   "execution_count": 15,
   "metadata": {},
   "outputs": [
    {
     "name": "stdout",
     "output_type": "stream",
     "text": [
      "Earth\n"
     ]
    }
   ],
   "source": [
    "# planet['name'] es idéntico a usar planet.get('name')\n",
    "print(planet['name'])\n",
    "\n",
    "# Muestra Earth\n"
   ]
  },
  {
   "cell_type": "markdown",
   "metadata": {},
   "source": [
    "Aunque el comportamiento de `get` y los corchetes (`[ ]`) suele ser el mismo para recuperar elementos, hay una diferencia principal. Si una clave no está disponible, `get` devuelve `None` y `[ ]` genera un error `KeyError`.\n"
   ]
  },
  {
   "cell_type": "code",
   "execution_count": 17,
   "metadata": {},
   "outputs": [
    {
     "name": "stdout",
     "output_type": "stream",
     "text": [
      "None\n"
     ]
    }
   ],
   "source": [
    "wibble = planet.get('wibble') # Regresa None\n",
    "\n",
    "print(wibble)"
   ]
  },
  {
   "cell_type": "code",
   "execution_count": 18,
   "metadata": {},
   "outputs": [
    {
     "ename": "KeyError",
     "evalue": "'wibble'",
     "output_type": "error",
     "traceback": [
      "\u001b[1;31m---------------------------------------------------------------------------\u001b[0m",
      "\u001b[1;31mKeyError\u001b[0m                                  Traceback (most recent call last)",
      "\u001b[1;32mc:\\Users\\qenriquez\\LX\\LX\\Módulo 8 - Administrar datos con diccionarios\\notebook.ipynb Cell 13'\u001b[0m in \u001b[0;36m<module>\u001b[1;34m\u001b[0m\n\u001b[1;32m----> <a href='vscode-notebook-cell:/c%3A/Users/qenriquez/LX/LX/M%C3%B3dulo%208%20-%20Administrar%20datos%20con%20diccionarios/notebook.ipynb#ch0000014?line=0'>1</a>\u001b[0m wibble \u001b[39m=\u001b[39m planet[\u001b[39m'\u001b[39;49m\u001b[39mwibble\u001b[39;49m\u001b[39m'\u001b[39;49m] \u001b[39m# Arroja un KeyError\u001b[39;00m\n\u001b[0;32m      <a href='vscode-notebook-cell:/c%3A/Users/qenriquez/LX/LX/M%C3%B3dulo%208%20-%20Administrar%20datos%20con%20diccionarios/notebook.ipynb#ch0000014?line=1'>2</a>\u001b[0m \u001b[39mprint\u001b[39m(wibble)\n",
      "\u001b[1;31mKeyError\u001b[0m: 'wibble'"
     ]
    }
   ],
   "source": [
    "wibble = planet['wibble'] # Arroja un KeyError\n",
    "\n",
    "print(wibble)"
   ]
  },
  {
   "cell_type": "markdown",
   "metadata": {},
   "source": [
    "*Cómo te podrás dar cuenta, funcionan con una estructura similar a las listas. Ya que en el caso de las listas accedemos a cada uno de sus elementos a través de su índice (posición iniciando en 0) y en el caso de un diccionario, accedemos a sus elementos mediante la 'clave'*\n",
    "\n",
    "### Modificación de valores de un diccionario\n",
    "\n",
    "También puedes modificar valores dentro de un objeto de diccionario, con el método `update`. Este método acepta un diccionario como parámetro (sí, parámetro por que un diccionario es un rango de valores) y actualiza los valores existentes con los nuevos que proporciones. Si quieres cambiar `name` para el diccionario `planet`, puedes usar lo siguiente, por ejemplo:\n"
   ]
  },
  {
   "cell_type": "code",
   "execution_count": 19,
   "metadata": {},
   "outputs": [
    {
     "name": "stdout",
     "output_type": "stream",
     "text": [
      "{'name': 'Makemake', 'moons': 1}\n"
     ]
    }
   ],
   "source": [
    "planet.update({'name': 'Makemake'})\n",
    "\n",
    "# name ahora es Makemake\n",
    "print(planet)"
   ]
  },
  {
   "cell_type": "markdown",
   "metadata": {},
   "source": [
    "Al igual que se usa el acceso directo de corchetes (`[ ]`) para leer valores, se puede utilizar para modificar valores. La principal diferencia en la sintaxis es que se usa `=` (a veces denominado operador de asignación) para proporcionar un nuevo valor. Para modificar el ejemplo anterior y cambiar el nombre, puedes usar lo siguiente:\n"
   ]
  },
  {
   "cell_type": "code",
   "execution_count": 22,
   "metadata": {},
   "outputs": [
    {
     "name": "stdout",
     "output_type": "stream",
     "text": [
      "{'name': 'Makemake', 'moons': 1}\n"
     ]
    }
   ],
   "source": [
    "planet['name'] = 'Makemake'\n",
    "\n",
    "# name is now set to Makemake\n",
    "print(planet)\n"
   ]
  },
  {
   "cell_type": "markdown",
   "metadata": {},
   "source": [
    "La principal ventaja de usar `update` es la capacidad de modificar varios valores en una operación. Los dos ejemplos siguientes son lógicamente los mismos, pero la sintaxis es diferente. Puedes usar la sintaxis que creas más adecuada. Para actualizar valores individuales, la mayoría de los desarrolladores eligen corchetes.\n",
    "\n",
    "En el ejemplo siguiente se hacen las mismas modificaciones en la variable `planet` y se actualizan el nombre y las lunas. Ten en cuenta que al usar `update` realizas una sola llamada a la función, mientras que el uso de corchetes implica dos llamadas.\n"
   ]
  },
  {
   "cell_type": "code",
   "execution_count": 24,
   "metadata": {},
   "outputs": [
    {
     "name": "stdout",
     "output_type": "stream",
     "text": [
      "{'name': 'Jupiter', 'moons': 79}\n"
     ]
    }
   ],
   "source": [
    "# Usando update\n",
    "planet.update({\n",
    "    'name': 'Jupiter',\n",
    "    'moons': 79\n",
    "})\n",
    "print(planet)"
   ]
  },
  {
   "cell_type": "code",
   "execution_count": 25,
   "metadata": {},
   "outputs": [
    {
     "name": "stdout",
     "output_type": "stream",
     "text": [
      "{'name': 'Jupiter', 'moons': 79}\n"
     ]
    }
   ],
   "source": [
    "# Usando corchetes\n",
    "planet['name'] = 'Jupiter'\n",
    "planet['moons'] = 79\n",
    "\n",
    "print(planet)"
   ]
  },
  {
   "cell_type": "markdown",
   "metadata": {},
   "source": [
    "### Adición y eliminación de claves\n",
    "\n",
    "No es necesario crear todas las claves al inicializar un diccionario. De hecho, no es necesario crear ninguna. Siempre que quieras crear una clave, asígnala como harías con una existente.\n",
    "\n",
    "Imagina que quieres actualizar `planet` para incluir el período orbital en días:\n"
   ]
  },
  {
   "cell_type": "code",
   "execution_count": 26,
   "metadata": {},
   "outputs": [
    {
     "name": "stdout",
     "output_type": "stream",
     "text": [
      "{'name': 'Jupiter', 'moons': 79, 'orbital period': 4333}\n"
     ]
    }
   ],
   "source": [
    "planet['orbital period'] = 4333\n",
    "\n",
    "# el diccionario planet ahora contiene: {\n",
    "#   name: 'jupiter'\n",
    "#   moons: 79\n",
    "#   orbital period: 4333\n",
    "# }\n",
    "print(planet)"
   ]
  },
  {
   "cell_type": "markdown",
   "metadata": {},
   "source": [
    "> Los nombres de una clave, como todo lo demás en Python, distinguen mayúsculas de minúsculas. Como resultado, 'name' y 'Name' se consideran dos claves independientes en un diccionario de Python.\n",
    "\n",
    "Para quitar una clave, usa `pop`. `pop` devuelve el valor y quita la clave del diccionario. Para eliminar `orbital period`, puedes usar el código siguiente:\n"
   ]
  },
  {
   "cell_type": "code",
   "execution_count": 27,
   "metadata": {},
   "outputs": [
    {
     "name": "stdout",
     "output_type": "stream",
     "text": [
      "{'name': 'Jupiter', 'moons': 79}\n"
     ]
    }
   ],
   "source": [
    "planet.pop('orbital period')\n",
    "\n",
    "# el diccionario planet ahora contiene: {\n",
    "#   name: 'jupiter'\n",
    "#   moons: 79\n",
    "# }\n",
    "print(planet)"
   ]
  },
  {
   "cell_type": "markdown",
   "metadata": {},
   "source": [
    "### Tipos de data complejos\n",
    "\n",
    "Los diccionarios pueden almacenar cualquier tipo de valor, incluidos otros diccionarios. Esto te permite modelar datos complejos según sea necesario. Imagina que debes que almacenar el diámetro de `planet`, que se podría medir alrededor de su ecuador o de los polos. Puedes crear otro diccionario dentro de `planet` para almacenar esta información:\n"
   ]
  },
  {
   "cell_type": "code",
   "execution_count": 28,
   "metadata": {},
   "outputs": [
    {
     "name": "stdout",
     "output_type": "stream",
     "text": [
      "{'name': 'Jupiter', 'moons': 79, 'diameter (km)': {'polar': 133709, 'equatorial': 142984}}\n"
     ]
    }
   ],
   "source": [
    "# Añadimos los datos\n",
    "planet['diameter (km)'] = {\n",
    "    'polar': 133709,\n",
    "    'equatorial': 142984\n",
    "}\n",
    "\n",
    "# el diccionario planet ahora contiene: {\n",
    "#   name: 'Jupiter'\n",
    "#   moons: 79\n",
    "#   diameter (km): {\n",
    "#      polar: 133709\n",
    "#      equatorial: 142984\n",
    "#   }\n",
    "# }\n",
    "print(planet)"
   ]
  },
  {
   "cell_type": "markdown",
   "metadata": {},
   "source": [
    "Para recuperar valores en un diccionario anidado, puedes utilizar corchetes `[ ]` o llamar a `get`.\n"
   ]
  },
  {
   "cell_type": "code",
   "execution_count": 64,
   "metadata": {},
   "outputs": [
    {
     "name": "stdout",
     "output_type": "stream",
     "text": [
      "Jupiter polar diameter: {'polar': 133709, 'equatorial': 142984}\n"
     ]
    }
   ],
   "source": [
    "print(f'''{planet['name']} polar diameter: {planet['diameter (km)']}''')\n",
    "\n",
    "# Salida: Jupiter polar diameter: 133709\n"
   ]
  },
  {
   "cell_type": "code",
   "execution_count": 62,
   "metadata": {},
   "outputs": [
    {
     "name": "stdout",
     "output_type": "stream",
     "text": [
      "Jupiter polar diameter: {'polar': 133709, 'equatorial': 142984}\n"
     ]
    }
   ],
   "source": [
    "#print(f'''{planet.get('name') polar diameter: {planet.get('diameter (km)') ('polar')}''')\n",
    "\n",
    "print(f'''{planet.get('name')} polar diameter: {planet.get('diameter (km)')}''')"
   ]
  },
  {
   "cell_type": "markdown",
   "metadata": {},
   "source": [
    "## Programación dinámica con diccionarios\n",
    "\n",
    "En el programa, quieres realizar varios cálculos, como el del número total de lunas. Además, a medida que progreses en programación, es posible que necesites cargar este tipo de información desde archivos o una base de datos, en lugar de programarlos directamente en Python.\n",
    "\n",
    "Para ayudar a admitir estos escenarios, Python te permite tratar las claves y los valores dentro de un diccionario como una lista. Puedes determinar de manera dinámica las claves y los valores, y realizar varios cálculos.\n",
    "\n",
    "Imagina un diccionario en el que se almacenan cantidades mensuales de precipitaciones. Es probable que tengas claves para cada mes y sus precipitaciones asociadas. Quieres sumar el total de precipitaciones, y escribir el código para realizar la operación mediante cada clave individual sería bastante tedioso.\n",
    "\n",
    "### Recuperación de todas las claves y valores\n",
    "\n",
    "El método `keys()` devuelve un objeto de lista que contiene todas las claves. Puedes usar este método para iterar por todos los elementos del diccionario.\n",
    "\n",
    "Imagina que tiene el siguiente diccionario, en el que se almacenan los últimos tres meses de precipitaciones (rainfall).\n"
   ]
  },
  {
   "cell_type": "code",
   "execution_count": 66,
   "metadata": {},
   "outputs": [
    {
     "name": "stdout",
     "output_type": "stream",
     "text": [
      "{'october': 3.5, 'november': 4.2, 'december': 2.1}\n"
     ]
    }
   ],
   "source": [
    "rainfall = {\n",
    "    'october': 3.5,\n",
    "    'november': 4.2,\n",
    "    'december': 2.1\n",
    "}\n",
    "\n",
    "print(rainfall)"
   ]
  },
  {
   "cell_type": "markdown",
   "metadata": {},
   "source": [
    "Imagina que quieres mostrar la lista de todas las precipitaciones. Puedes escribir el nombre de cada mes, pero sería tedioso, en este caso hacemos uso del método `keys()`."
   ]
  },
  {
   "cell_type": "code",
   "execution_count": 67,
   "metadata": {},
   "outputs": [
    {
     "name": "stdout",
     "output_type": "stream",
     "text": [
      "october: 3.5cm\n",
      "november: 4.2cm\n",
      "december: 2.1cm\n"
     ]
    }
   ],
   "source": [
    "for key in rainfall.keys():\n",
    "    print(f'{key}: {rainfall[key]}cm')\n",
    "\n",
    "# Salida:\n",
    "# october: 3.5cm\n",
    "# november: 4.2cm\n",
    "# december: 2.1cm"
   ]
  },
  {
   "cell_type": "markdown",
   "metadata": {},
   "source": [
    ">*Para cada clave en las claves(keys()) contenidas en `rainfalls`:  muestra la clave que estás iterando (meses):  así como el valor (número) de la clave que estamos iterando (clave-mes : valor-número) en cm*"
   ]
  },
  {
   "cell_type": "markdown",
   "metadata": {},
   "source": [
    "### Determinando la existencia de una clave en un diccionario\n",
    "\n",
    "Al actualizar un valor en un diccionario, Python sobrescribirá el valor existente o creará uno en su defecto, si la clave no existe. Si quieres agregar un valor en lugar de sobrescribirlo, puedes comprobar si la clave existe mediante `in`. Por ejemplo, si quieres agregar un valor a diciembre o crear uno si no existe, puedes usar lo siguiente:\n"
   ]
  },
  {
   "cell_type": "code",
   "execution_count": 75,
   "metadata": {},
   "outputs": [
    {
     "name": "stdout",
     "output_type": "stream",
     "text": [
      "{'october': 3.5, 'november': 4.2, 'december': 10.1}\n"
     ]
    }
   ],
   "source": [
    "# El valor de december: 2.1cm\n",
    "\n",
    "# Si, 'december' existe en rainfall\n",
    "if 'december' in rainfall:\n",
    "    # rainfall [en la posición december] es igual a rainfall [en la posición december] + 1 \n",
    "    # rainfall [en la posición december] = rainfall(2.1) + 1\n",
    "    rainfall['december'] = rainfall['december'] + 1\n",
    "\n",
    "# Si no:\n",
    "else:\n",
    "    # rainfall [en la posición december] es igual a 1\n",
    "    rainfall['december'] = 1\n",
    "\n",
    "# Como december si existe, el valor será 3.1\n",
    "\n",
    "print(rainfall)"
   ]
  },
  {
   "cell_type": "markdown",
   "metadata": {},
   "source": [
    "### Recuper todos los valores de un diccionario\n",
    "\n",
    "De forma similar a `keys()`, `values()` devuelve la lista de todos los valores de un diccionario sin sus claves correspondientes. Esto puede resultar útil cuando se usa la clave con fines de etiquetado, como en el ejemplo anterior, en el que las claves son el nombre del mes. Puedes usar `values()` para determinar el importe total de las precipitaciones:\n"
   ]
  },
  {
   "cell_type": "code",
   "execution_count": 77,
   "metadata": {},
   "outputs": [
    {
     "name": "stdout",
     "output_type": "stream",
     "text": [
      "0\n"
     ]
    }
   ],
   "source": [
    "#Total de precipitaciones 0\n",
    "total_rainfall = 0\n",
    "\n",
    "print(total_rainfall)"
   ]
  },
  {
   "cell_type": "code",
   "execution_count": 79,
   "metadata": {},
   "outputs": [
    {
     "name": "stdout",
     "output_type": "stream",
     "text": [
      "There was 35.6cm in the last quarter\n"
     ]
    }
   ],
   "source": [
    "# Para cada valor en los valores de rainfall\n",
    "for value in rainfall.values():\n",
    "  \n",
    "    # El total de las precipitaciones será igual a ese mismo + el valor que se está iterando\n",
    "    total_rainfall = total_rainfall + value\n",
    "\n",
    "# Muestra 'Hay un total de precipitaciones (el valor total) en centímetros en el último cuatrimestre (haciendo referencia al cuarto del año)\n",
    "print(f'There was {total_rainfall}cm in the last quarter')\n",
    "\n",
    "# Salida:\n",
    "# There was 10.8cm in the last quarter"
   ]
  }
 ],
 "metadata": {
  "interpreter": {
   "hash": "0204d16e613ae63710d3b27c45ef3cf0d155c04d129473c1afaaa4a76b83c978"
  },
  "kernelspec": {
   "display_name": "Python 3.10.2 64-bit (windows store)",
   "language": "python",
   "name": "python3"
  },
  "language_info": {
   "codemirror_mode": {
    "name": "ipython",
    "version": 3
   },
   "file_extension": ".py",
   "mimetype": "text/x-python",
   "name": "python",
   "nbconvert_exporter": "python",
   "pygments_lexer": "ipython3",
   "version": "3.10.2"
  },
  "orig_nbformat": 4
 },
 "nbformat": 4,
 "nbformat_minor": 2
}
