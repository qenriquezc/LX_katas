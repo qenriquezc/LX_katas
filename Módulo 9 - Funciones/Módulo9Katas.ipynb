{
  "cells": [
    {
      "cell_type": "markdown",
      "metadata": {},
      "source": [
        "# Ejercicio: Uso de funciones en Python"
      ]
    },
    {
      "cell_type": "markdown",
      "metadata": {},
      "source": [
        "### Ejercicio 1: Trabajar con argumentos en funciones\n",
        "\n",
        "Los argumentos requeridos en las funciones se utilizan cuando las funciones necesitan que esos argumentos funcionen correctamente. En este ejercicio, construirás un informe de combustible que requiere información de varias ubicaciones de combustible en todo el cohete.\n",
        "\n"
      ]
    },
    {
      "cell_type": "markdown",
      "metadata": {},
      "source": [
        "> **TIP**\n",
        "> Dedica unos minutos para tratar de encontrar una solución. Luego desplázate hacia abajo hasta la parte inferior para ver si has logrado compilar el programa de acuerdo con las especificaciones\n",
        "\n",
        "Comienza por crear una función que necesite tres lecturas de combustible y devuelva un informe:"
      ]
    },
    {
      "cell_type": "code",
      "execution_count": 72,
      "metadata": {},
      "outputs": [
        {
          "data": {
            "text/plain": [
              "'Informe de combustible\\n        Tanque 1: 10%\\n        Tanque 2: 20%\\n        Tanque 3: 30%\\n        Promedio: 20%\\n        '"
            ]
          },
          "execution_count": 72,
          "metadata": {},
          "output_type": "execute_result"
        }
      ],
      "source": [
        "# Función para leer 3 tanques de combustible y muestre el promedio\n",
        "def combustible( tanque1, tanque2, tanque3):\n",
        "        promedio = (tanque1 + tanque2 + tanque3) / 3\n",
        "        return f\"\"\"Informe de combustible\n",
        "        Tanque 1: {tanque1}%\n",
        "        Tanque 2: {tanque2}%\n",
        "        Tanque 3: {tanque3}%\n",
        "        Promedio: {int(promedio)}%\n",
        "        \"\"\"\n",
        "combustible(10, 20, 30)"
      ]
    },
    {
      "cell_type": "markdown",
      "metadata": {},
      "source": [
        "Ahora que hemos definido la función de informes, vamos a comprobarlo. Para esta misión, los tanques no están llenos:"
      ]
    },
    {
      "cell_type": "code",
      "execution_count": 44,
      "metadata": {},
      "outputs": [
        {
          "name": "stdout",
          "output_type": "stream",
          "text": [
            "Informe de combustible.\n",
            "        'Tanque 1:' 10'%'\n",
            "        'Tanque 2:' 20'%'\n",
            "        'Tanque 3:' 30'%'\n",
            "        'Promedio:' 20'%'\n",
            "        \n"
          ]
        }
      ],
      "source": [
        "\n",
        "# Llamamos a la función que genera el reporte print(funcion(tanque1, tanque2, tanque3))\n",
        "print(combustible(10, 20, 30))"
      ]
    },
    {
      "cell_type": "markdown",
      "metadata": {},
      "source": [
        "En lugar de simplemente crear el informe, la función también está calculando el promedio. Mejora la legibilidad extrayendo el cálculo promedio de la función en una nueva función para que el promedio se pueda hacer de forma independiente:"
      ]
    },
    {
      "cell_type": "code",
      "execution_count": 52,
      "metadata": {},
      "outputs": [
        {
          "data": {
            "text/plain": [
              "20.0"
            ]
          },
          "execution_count": 52,
          "metadata": {},
          "output_type": "execute_result"
        }
      ],
      "source": [
        "# Función promedio \n",
        "def average(values):\n",
        "    total = sum(values)\n",
        "    tanques = len(values)\n",
        "    return total / tanques\n",
        "\n",
        "\n",
        "average([10, 20, 30])\n",
        "    "
      ]
    },
    {
      "cell_type": "markdown",
      "metadata": {},
      "source": [
        "Ahora actualiza la función de informes para llamando a la nueva función del promedio:\n"
      ]
    },
    {
      "cell_type": "code",
      "execution_count": 96,
      "metadata": {},
      "outputs": [
        {
          "name": "stdout",
          "output_type": "stream",
          "text": [
            "Informe de combustible.\n",
            "        Tanque 1: 10%\n",
            "        Tanque 2: 20%\n",
            "        Tanque 3: 30%\n",
            "        Promedio: 20%\n",
            "        \n"
          ]
        }
      ],
      "source": [
        "# Actualiza la función\n",
        "def combustible( tanque1, tanque2, tanque3):\n",
        "        return f\"\"\"Informe de combustible.\n",
        "        Tanque 1: {tanque1}%\n",
        "        Tanque 2: {tanque2}%\n",
        "        Tanque 3: {tanque3}%\n",
        "        Promedio: {int(average([tanque1, tanque2, tanque3]))}%\n",
        "        \"\"\"\n",
        "\n",
        "print(combustible(10, 20, 30))"
      ]
    },
    {
      "cell_type": "markdown",
      "metadata": {},
      "source": [
        "> Recuerda: Lo importante es intentarlo, puedes auxiliarte de internet, libros, etc. El objetivo de una kata es la comprobación de la comprensión de la lección y su aplicación inmediata a la resolución de problemas. Go for it!"
      ]
    },
    {
      "cell_type": "markdown",
      "metadata": {},
      "source": [
        "## Ejercicio 2: Trabajo con argumentos de palabra clave"
      ]
    },
    {
      "cell_type": "markdown",
      "metadata": {},
      "source": [
        "### Ejercicio : Trabajar con argumentos de palabras clave en funciones\n",
        "En este ejercicio, construirás un informe de cohete que requiere varias piezas de información, como el tiempo hasta el destino, el combustible restante y el nombre del destino. Comienza por crear una función que creará un informe preciso de la misión:"
      ]
    },
    {
      "cell_type": "code",
      "execution_count": 83,
      "metadata": {},
      "outputs": [
        {
          "name": "stdout",
          "output_type": "stream",
          "text": [
            "\n",
            "    Destino de la misión: Luna\n",
            "    Tiempo total de vuelo: 65 minutos\n",
            "    Combustible restante: 500000 litros\n",
            "    \n"
          ]
        }
      ],
      "source": [
        "# Función con un informe preciso de la misión. Considera hora de prelanzamiento, tiempo de vuelo, destino, tanque externo y tanque interno\n",
        "\n",
        "def reporte(prelanzamiento, tiempo_vuelo, destino, tanque_ext, tanque_int):\n",
        "    return f\"\"\"\n",
        "    Destino de la misión: {destino}\n",
        "    Tiempo total de vuelo: {tiempo_vuelo + prelanzamiento} minutos\n",
        "    Combustible restante: {tanque_ext + tanque_int} litros\n",
        "    \"\"\"\n",
        "\n",
        "print(reporte(14, 51, \"Luna\", 200000, 300000))"
      ]
    },
    {
      "cell_type": "markdown",
      "metadata": {},
      "source": [
        "La función es problemática porque no se puede adaptar para minutos adicionales o tanques adicionales de combustible. Hazlo más flexible permitiendo cualquier número de pasos basados en el tiempo y cualquier número de tanques. En lugar de usar `*args` y `**kwargs`, aprovecha el hecho de que puedes usar cualquier nombre que desees. Asegurate que la función sea más legible mediante el uso de nombres de variables que están asociados con las entradas, como `*minutes` y `**fuel_reservoirs`:"
      ]
    },
    {
      "cell_type": "code",
      "execution_count": 97,
      "metadata": {},
      "outputs": [
        {
          "name": "stdout",
          "output_type": "stream",
          "text": [
            "\n",
            "    Mision con destino a Luna\n",
            "    Tiempo total del viaaje: 76 minutes\n",
            "    Total fuel left: 500000\n",
            "    \n"
          ]
        }
      ],
      "source": [
        "# Escribe tu nueva función de reporte considerando lo anterior\n",
        "destino = input('Obtener el nombre del Destino')\n",
        "prelanzamiento = input('Obtener el tiempo del prelanzamiento en minutos')\n",
        "tiempo_vuelo = input('Obtener el tiempo estimado del vuelo en minutos')\n",
        "tanque_ext = input('Obtener el número de litros de combustible en el Tanque Externo')\n",
        "tanque_int = input('Obtener el número de litros de combustible en el Tanque Interno')\n",
        "\n",
        "\n",
        "\n",
        "def mission_report(destino, *minutes, **fuel_reservoirs):\n",
        "    return f\"\"\"\n",
        "    Destino de la Misión: {destino}\n",
        "    Tiempo total del viaaje: {sum(minutes)} minutos\n",
        "    Combustible restante: {sum(fuel_reservoirs.values())} litros\n",
        "    \"\"\"\n",
        "\n",
        "print(mission_report(destino, 10, 15, 51, main=300000, external=200000))"
      ]
    },
    {
      "cell_type": "markdown",
      "metadata": {},
      "source": [
        "Debido a que el combustible que queda en los tanques es específico de cada tanque, actualiza la función para usar el nombre de cada tanque en el informe:"
      ]
    },
    {
      "cell_type": "code",
      "execution_count": 4,
      "metadata": {},
      "outputs": [
        {
          "name": "stdout",
          "output_type": "stream",
          "text": [
            "\n",
            "    ***************************************\n",
            "              REPORTE DE LA MISIÓN\n",
            "    ***************************************\n",
            "    Destino de la Misión: Luna\n",
            "    ---------------------------------------\n",
            "    Tiempo total del viaaje: 76 minutos\n",
            "        Prelanzamiento:  10 minutos\n",
            "        Tiempo de vuelo: 20 minutos\n",
            "    ---------------------------------------    \n",
            "    Combustible restante: 500000 litros\n",
            "        Tanque Externo: 30 litros\n",
            "        Tanque Interno: 400 litros\n",
            "    ***************************************\n",
            "    ........... ................... .......\n",
            "    .........   .................   .......\n",
            "    .......    ................    ........\n",
            "    .....     ...............     .........\n",
            "    ..     ...............     ............\n",
            "    .               .....               ...\n",
            "    ........       .............       ....\n",
            "    ........     ...............     ......\n",
            "    .......    ................    ........\n",
            "    ......   .................   ..........\n",
            "    ...... ................... ............\n",
            "    \n"
          ]
        }
      ],
      "source": [
        "# Escribe tu nueva función\n",
        "\n",
        "destino = input('Obtener el nombre del Destino')\n",
        "prelanzamiento = input('Obtener el tiempo del prelanzamiento en minutos').upper()\n",
        "tiempo_vuelo = input('Obtener el tiempo estimado del vuelo en minutos')\n",
        "tanque_ext = input('Obtener el número de litros de combustible en el Tanque Externo')\n",
        "tanque_int = input('Obtener el número de litros de combustible en el Tanque Interno')\n",
        "\n",
        "\n",
        "\n",
        "def mission_report(destino, *minutes, **fuel_reservoirs):\n",
        "    return f\"\"\"\n",
        "    ***************************************\n",
        "              REPORTE DE LA MISIÓN\n",
        "    ***************************************\n",
        "    Destino de la Misión: {destino}\n",
        "    ---------------------------------------\n",
        "    Tiempo del viaje:    {sum(minutes)} minutos\n",
        "        Prelanzamiento:  {prelanzamiento} minutos\n",
        "        Tiempo de vuelo: {tiempo_vuelo} minutos\n",
        "    ---------------------------------------    \n",
        "    Combustible restante: {sum(fuel_reservoirs.values())} litros\n",
        "        Tanque Externo: {tanque_ext} litros\n",
        "        Tanque Interno: {tanque_int} litros\n",
        "    ***************************************\n",
        "    ............ ................... ......\n",
        "    ..........   .................   ......\n",
        "    ........    ................    .......\n",
        "    ......     ...............     ........\n",
        "    ...     ...............     ...........\n",
        "    ..               .....               ..\n",
        "    .........       .............       ...\n",
        "    .........     ...............     .....\n",
        "    ........    ................    .......\n",
        "    .......   .................   .........\n",
        "    ....... ................... ...........\n",
        "    \"\"\"\n",
        "\n",
        "print(mission_report(destino, 10, 15, 51, main=300000, external=200000))"
      ]
    },
    {
      "cell_type": "markdown",
      "metadata": {},
      "source": [
        "## Soluciones"
      ]
    },
    {
      "cell_type": "markdown",
      "metadata": {},
      "source": [
        "## Ejercicio 1"
      ]
    },
    {
      "cell_type": "code",
      "execution_count": 17,
      "metadata": {},
      "outputs": [],
      "source": [
        "# Función para leer 3 tanques de combustible y muestre el promedio\n",
        "\n",
        "def generate_report(main_tank, external_tank, hydrogen_tank):\n",
        "    total_average = (main_tank + external_tank + hydrogen_tank) / 3\n",
        "    return f\"\"\"Fuel Report:\n",
        "    Total Average: {total_average}%\n",
        "    Main tank: {main_tank}%\n",
        "    External tank: {external_tank}%\n",
        "    Hydrogen tank: {hydrogen_tank}% \n",
        "    \"\"\"\n"
      ]
    },
    {
      "cell_type": "code",
      "execution_count": 18,
      "metadata": {},
      "outputs": [
        {
          "name": "stdout",
          "output_type": "stream",
          "text": [
            "Fuel Report:\n",
            "    Total Average: 78.33333333333333%\n",
            "    Main tank: 80%\n",
            "    External tank: 70%\n",
            "    Hydrogen tank: 85% \n",
            "    \n"
          ]
        }
      ],
      "source": [
        "# Llamamos a la función que genera el reporte print(funcion(tanque1, tanque2, tanque3))\n",
        "print(generate_report(80, 70, 85))"
      ]
    },
    {
      "cell_type": "code",
      "execution_count": null,
      "metadata": {},
      "outputs": [],
      "source": [
        "# Función promedio \n",
        "def average(values):\n",
        "    total = sum(values)\n",
        "    number_of_items = len(values)\n",
        "    return total / number_of_items\n",
        "\n",
        "# Test the averaging function with a list of integers:\n",
        "average([80, 85, 81]) "
      ]
    },
    {
      "cell_type": "code",
      "execution_count": null,
      "metadata": {},
      "outputs": [],
      "source": [
        "# Actualiza la función\n",
        "def generate_report(main_tank, external_tank, hydrogen_tank):\n",
        "    return f\"\"\"Fuel Report:\n",
        "    Total Average: {average([main_tank, external_tank, hydrogen_tank])}%\n",
        "    Main tank: {main_tank}%\n",
        "    External tank: {external_tank}%\n",
        "    Hydrogen tank: {hydrogen_tank}% \n",
        "    \"\"\"\n",
        "\n",
        "# Call the updated function again with different values\n",
        "print(generate_report(88, 76, 70))"
      ]
    },
    {
      "cell_type": "markdown",
      "metadata": {},
      "source": [
        "### Ejercicio 2:"
      ]
    },
    {
      "cell_type": "code",
      "execution_count": null,
      "metadata": {},
      "outputs": [],
      "source": [
        "# Función con un informe preciso de la misión. Considera hora de prelanzamiento, tiempo de vuelo, destino, tanque externo y tanque interno\n",
        "\n",
        "def mission_report(pre_launch_time, flight_time, destination, external_tank, main_tank):\n",
        "    return f\"\"\"\n",
        "    Mission to {destination}\n",
        "    Total travel time: {pre_launch_time + flight_time} minutes\n",
        "    Total fuel left: {external_tank + main_tank} gallons\n",
        "    \"\"\"\n",
        "\n",
        "print(mission_report(14, 51, \"Moon\", 200000, 300000))"
      ]
    },
    {
      "cell_type": "code",
      "execution_count": null,
      "metadata": {},
      "outputs": [],
      "source": [
        "# Escribe tu nueva función de reporte considerando lo anterior\n",
        "\n",
        "def mission_report(destination, *minutes, **fuel_reservoirs):\n",
        "    return f\"\"\"\n",
        "    Mission to {destination}\n",
        "    Total travel time: {sum(minutes)} minutes\n",
        "    Total fuel left: {sum(fuel_reservoirs.values())}\n",
        "    \"\"\"\n",
        "\n",
        "print(mission_report(\"Moon\", 10, 15, 51, main=300000, external=200000))"
      ]
    },
    {
      "cell_type": "code",
      "execution_count": 99,
      "metadata": {},
      "outputs": [
        {
          "name": "stdout",
          "output_type": "stream",
          "text": [
            "\n",
            "    Mission to Moon\n",
            "    Total travel time: 74 minutes\n",
            "    Total fuel left: 500000\n",
            "    main tank --> 300000 gallons left\n",
            "external tank --> 200000 gallons left\n",
            "\n"
          ]
        }
      ],
      "source": [
        "# Escribe tu nueva función\n",
        "\n",
        "def mission_report(destination, *minutes, **fuel_reservoirs):\n",
        "    main_report = f\"\"\"\n",
        "    Mission to {destination}\n",
        "    Total travel time: {sum(minutes)} minutes\n",
        "    Total fuel left: {sum(fuel_reservoirs.values())}\n",
        "    \"\"\"\n",
        "    for tank_name, gallons in fuel_reservoirs.items():\n",
        "        main_report += f\"{tank_name} tank --> {gallons} gallons left\\n\"\n",
        "    return main_report\n",
        "\n",
        "print(mission_report(\"Moon\", 8, 11, 55, main=300000, external=200000))"
      ]
    },
    {
      "cell_type": "markdown",
      "metadata": {},
      "source": [
        "---\n",
        "\n",
        "Curso Propedútico de Python para Launch X - Innovacción Virtual.\n",
        "\n",
        "Material desarrollado con base en los contenidos de MSLearn y la metáfora de LaunchX, traducción e implementación por: Fernanda Ochoa - Learning Producer de LaunchX.\n",
        "\n",
        "Redes:\n",
        "* GitHub: [FernandaOchoa](https://github.com/FernandaOchoa)\n",
        "* Twitter: [@imonsh](https://twitter.com/imonsh)\n",
        "* Instagram: [fherz8a](https://www.instagram.com/fherz8a/)"
      ]
    }
  ],
  "metadata": {
    "interpreter": {
      "hash": "205095b8b86ea82a021a8fc2ffba2b3bc9f8d0be25999901963b225939f75778"
    },
    "kernelspec": {
      "display_name": "Python 3.8.10 64-bit ('tmp': conda)",
      "name": "python3"
    },
    "language_info": {
      "codemirror_mode": {
        "name": "ipython",
        "version": 3
      },
      "file_extension": ".py",
      "mimetype": "text/x-python",
      "name": "python",
      "nbconvert_exporter": "python",
      "pygments_lexer": "ipython3",
      "version": "3.10.2"
    },
    "nteract": {
      "version": "nteract-front-end@1.0.0"
    },
    "orig_nbformat": 4
  },
  "nbformat": 4,
  "nbformat_minor": 2
}
