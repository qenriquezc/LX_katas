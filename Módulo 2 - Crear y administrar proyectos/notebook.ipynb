{
 "cells": [
  {
   "cell_type": "markdown",
   "metadata": {},
   "source": [
    "#### app.py\n",
    "![Planeta](\\evidencia-kata2\\evidencia-app.py-kata2.jpg)\n",
    "\n",
    "#### env\n",
    "![Planeta](\\evidencia-kata2\\evidencia-kata2.jpg)\n"
   ]
  }
 ],
 "metadata": {
  "language_info": {
   "name": "python"
  },
  "orig_nbformat": 4
 },
 "nbformat": 4,
 "nbformat_minor": 2
}
