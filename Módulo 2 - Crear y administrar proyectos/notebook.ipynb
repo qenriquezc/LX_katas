{
 "cells": [
  {
   "cell_type": "markdown",
   "metadata": {},
   "source": [
    "#### app.py\n",
    "![app.py](https://raw.githubusercontent.com/qenriquezc/LX/master/Módulo%202%20-%20Crear%20y%20administrar%20proyectos/evidencia-kata2/evidencia-app.py-kata2.jpg?token=GHSAT0AAAAAABRXGUVIMAD7ZPTRC6KIYSGWYQZEIQA)\n",
    "\n",
    "#### env\n",
    "![Planeta](https://github.com/qenriquezc/LX/blob/master/M%C3%B3dulo%202%20-%20Crear%20y%20administrar%20proyectos/evidencia-kata2/evidencia-kata2.jpg)\n"
   ]
  }
 ],
 "metadata": {
  "language_info": {
   "name": "python"
  },
  "orig_nbformat": 4
 },
 "nbformat": 4,
 "nbformat_minor": 2
}
